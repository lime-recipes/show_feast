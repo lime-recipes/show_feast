{
 "cells": [
  {
   "cell_type": "code",
   "execution_count": 10,
   "id": "c0b0d8f4",
   "metadata": {},
   "outputs": [
    {
     "name": "stderr",
     "output_type": "stream",
     "text": [
      "/opt/conda/lib/python3.7/site-packages/ipykernel/ipkernel.py:283: DeprecationWarning: `should_run_async` will not call `transform_cell` automatically in the future. Please pass the result to `transformed_cell` argument and any exception that happen during thetransform in `preprocessing_exc_tuple` in IPython 7.17 and above.\n",
      "  and should_run_async(code)\n"
     ]
    }
   ],
   "source": [
    "from datetime import datetime, timedelta\n",
    "from flights_feast_module.feast_repo import airline, arr_airport, dep_airport, flight_stats_view\n",
    "from feast import FeatureStore, RepoConfig\n",
    "import pytz\n",
    "\n",
    "fs = FeatureStore(repo_path=\"./flights_feast_module\")"
   ]
  },
  {
   "cell_type": "code",
   "execution_count": 11,
   "id": "110c28c8",
   "metadata": {},
   "outputs": [],
   "source": [
    "#bigQuery client\n",
    "\n",
    "import google.auth\n",
    "from google.cloud import bigquery\n",
    "\n",
    "credentials, project_id = google.auth.default(\n",
    "    scopes=[\"https://www.googleapis.com/auth/cloud-platform\"]\n",
    ")\n",
    "\n",
    "bq_client = bigquery.Client(credentials=credentials, project=project_id,)\n"
   ]
  },
  {
   "cell_type": "code",
   "execution_count": 12,
   "id": "520c12b4",
   "metadata": {},
   "outputs": [
    {
     "name": "stdout",
     "output_type": "stream",
     "text": [
      "rows: 10\n"
     ]
    },
    {
     "data": {
      "text/html": [
       "<div>\n",
       "<style scoped>\n",
       "    .dataframe tbody tr th:only-of-type {\n",
       "        vertical-align: middle;\n",
       "    }\n",
       "\n",
       "    .dataframe tbody tr th {\n",
       "        vertical-align: top;\n",
       "    }\n",
       "\n",
       "    .dataframe thead th {\n",
       "        text-align: right;\n",
       "    }\n",
       "</style>\n",
       "<table border=\"1\" class=\"dataframe\">\n",
       "  <thead>\n",
       "    <tr style=\"text-align: right;\">\n",
       "      <th></th>\n",
       "      <th>airline</th>\n",
       "      <th>departure_airport</th>\n",
       "      <th>arrival_airport</th>\n",
       "      <th>departure_delay</th>\n",
       "      <th>event_timestamp</th>\n",
       "    </tr>\n",
       "  </thead>\n",
       "  <tbody>\n",
       "    <tr>\n",
       "      <th>0</th>\n",
       "      <td>DL</td>\n",
       "      <td>IAH</td>\n",
       "      <td>ATL</td>\n",
       "      <td>-7.0</td>\n",
       "      <td>2004-01-27 17:15:00+00:00</td>\n",
       "    </tr>\n",
       "    <tr>\n",
       "      <th>1</th>\n",
       "      <td>US</td>\n",
       "      <td>PHX</td>\n",
       "      <td>LAS</td>\n",
       "      <td>-6.0</td>\n",
       "      <td>2010-08-04 10:20:00+00:00</td>\n",
       "    </tr>\n",
       "    <tr>\n",
       "      <th>2</th>\n",
       "      <td>OH</td>\n",
       "      <td>CVG</td>\n",
       "      <td>LGA</td>\n",
       "      <td>0.0</td>\n",
       "      <td>2009-10-22 07:00:00+00:00</td>\n",
       "    </tr>\n",
       "    <tr>\n",
       "      <th>3</th>\n",
       "      <td>WN</td>\n",
       "      <td>LAS</td>\n",
       "      <td>SLC</td>\n",
       "      <td>5.0</td>\n",
       "      <td>2006-12-03 10:30:00+00:00</td>\n",
       "    </tr>\n",
       "    <tr>\n",
       "      <th>4</th>\n",
       "      <td>FL</td>\n",
       "      <td>ATL</td>\n",
       "      <td>MSY</td>\n",
       "      <td>-4.0</td>\n",
       "      <td>2011-10-17 10:25:00+00:00</td>\n",
       "    </tr>\n",
       "  </tbody>\n",
       "</table>\n",
       "</div>"
      ],
      "text/plain": [
       "  airline departure_airport arrival_airport  departure_delay  \\\n",
       "0      DL               IAH             ATL             -7.0   \n",
       "1      US               PHX             LAS             -6.0   \n",
       "2      OH               CVG             LGA              0.0   \n",
       "3      WN               LAS             SLC              5.0   \n",
       "4      FL               ATL             MSY             -4.0   \n",
       "\n",
       "            event_timestamp  \n",
       "0 2004-01-27 17:15:00+00:00  \n",
       "1 2010-08-04 10:20:00+00:00  \n",
       "2 2009-10-22 07:00:00+00:00  \n",
       "3 2006-12-03 10:30:00+00:00  \n",
       "4 2011-10-17 10:25:00+00:00  "
      ]
     },
     "execution_count": 12,
     "metadata": {},
     "output_type": "execute_result"
    }
   ],
   "source": [
    "# get 10 samples from historical flight records\n",
    "query=\"\"\"\n",
    "SELECT airline,departure_airport, arrival_airport, departure_delay, event_timestamp\n",
    " FROM `red-beryl-labs.redbq.flight_records` order by rand() limit 10\n",
    "\"\"\"\n",
    "flight_records = bq_client.query(query).to_dataframe()\n",
    "\n",
    "num_of_rows = flight_records.shape[0]\n",
    "print('rows:',num_of_rows)\n",
    "flight_records.head(n=5)"
   ]
  },
  {
   "cell_type": "code",
   "execution_count": 13,
   "id": "f4437b72",
   "metadata": {},
   "outputs": [
    {
     "name": "stderr",
     "output_type": "stream",
     "text": [
      "/opt/conda/lib/python3.7/site-packages/ipykernel/ipkernel.py:283: DeprecationWarning: `should_run_async` will not call `transform_cell` automatically in the future. Please pass the result to `transformed_cell` argument and any exception that happen during thetransform in `preprocessing_exc_tuple` in IPython 7.17 and above.\n",
      "  and should_run_async(code)\n"
     ]
    },
    {
     "data": {
      "text/html": [
       "<div>\n",
       "<style scoped>\n",
       "    .dataframe tbody tr th:only-of-type {\n",
       "        vertical-align: middle;\n",
       "    }\n",
       "\n",
       "    .dataframe tbody tr th {\n",
       "        vertical-align: top;\n",
       "    }\n",
       "\n",
       "    .dataframe thead th {\n",
       "        text-align: right;\n",
       "    }\n",
       "</style>\n",
       "<table border=\"1\" class=\"dataframe\">\n",
       "  <thead>\n",
       "    <tr style=\"text-align: right;\">\n",
       "      <th></th>\n",
       "      <th>airline</th>\n",
       "      <th>departure_airport</th>\n",
       "      <th>arrival_airport</th>\n",
       "      <th>departure_delay</th>\n",
       "      <th>event_timestamp</th>\n",
       "    </tr>\n",
       "  </thead>\n",
       "  <tbody>\n",
       "    <tr>\n",
       "      <th>0</th>\n",
       "      <td>DL</td>\n",
       "      <td>IAH</td>\n",
       "      <td>ATL</td>\n",
       "      <td>-7.0</td>\n",
       "      <td>2011-10-18 13:25:54+00:00</td>\n",
       "    </tr>\n",
       "    <tr>\n",
       "      <th>1</th>\n",
       "      <td>US</td>\n",
       "      <td>PHX</td>\n",
       "      <td>LAS</td>\n",
       "      <td>-6.0</td>\n",
       "      <td>2011-10-18 15:02:46+00:00</td>\n",
       "    </tr>\n",
       "    <tr>\n",
       "      <th>2</th>\n",
       "      <td>OH</td>\n",
       "      <td>CVG</td>\n",
       "      <td>LGA</td>\n",
       "      <td>0.0</td>\n",
       "      <td>2011-10-18 22:01:22+00:00</td>\n",
       "    </tr>\n",
       "    <tr>\n",
       "      <th>3</th>\n",
       "      <td>WN</td>\n",
       "      <td>LAS</td>\n",
       "      <td>SLC</td>\n",
       "      <td>5.0</td>\n",
       "      <td>2011-10-18 12:25:05+00:00</td>\n",
       "    </tr>\n",
       "    <tr>\n",
       "      <th>4</th>\n",
       "      <td>FL</td>\n",
       "      <td>ATL</td>\n",
       "      <td>MSY</td>\n",
       "      <td>-4.0</td>\n",
       "      <td>2011-10-19 19:48:58+00:00</td>\n",
       "    </tr>\n",
       "  </tbody>\n",
       "</table>\n",
       "</div>"
      ],
      "text/plain": [
       "  airline departure_airport arrival_airport  departure_delay  \\\n",
       "0      DL               IAH             ATL             -7.0   \n",
       "1      US               PHX             LAS             -6.0   \n",
       "2      OH               CVG             LGA              0.0   \n",
       "3      WN               LAS             SLC              5.0   \n",
       "4      FL               ATL             MSY             -4.0   \n",
       "\n",
       "            event_timestamp  \n",
       "0 2011-10-18 13:25:54+00:00  \n",
       "1 2011-10-18 15:02:46+00:00  \n",
       "2 2011-10-18 22:01:22+00:00  \n",
       "3 2011-10-18 12:25:05+00:00  \n",
       "4 2011-10-19 19:48:58+00:00  "
      ]
     },
     "execution_count": 13,
     "metadata": {},
     "output_type": "execute_result"
    }
   ],
   "source": [
    "#generate a sample flight records\n",
    "import numpy as np\n",
    "import pandas as pd\n",
    "\n",
    "flight_records['event_timestamp'] = pd.to_datetime(np.random.randint(datetime(2011, 10, 18).timestamp(),datetime(2011, 10, 20).timestamp(), size=10), unit='s', utc=True)\n",
    "\n",
    "flight_records.head(n=5)"
   ]
  },
  {
   "cell_type": "code",
   "execution_count": 14,
   "id": "8b5fc656",
   "metadata": {},
   "outputs": [
    {
     "name": "stderr",
     "output_type": "stream",
     "text": [
      "/opt/conda/lib/python3.7/site-packages/ipykernel/ipkernel.py:283: DeprecationWarning: `should_run_async` will not call `transform_cell` automatically in the future. Please pass the result to `transformed_cell` argument and any exception that happen during thetransform in `preprocessing_exc_tuple` in IPython 7.17 and above.\n",
      "  and should_run_async(code)\n"
     ]
    },
    {
     "name": "stdout",
     "output_type": "stream",
     "text": [
      "big query job <class 'feast.infra.offline_stores.bigquery.BigQueryRetrievalJob'> started, please hold\n",
      "big query job completed\n"
     ]
    }
   ],
   "source": [
    "#this is a feast's big query job\n",
    "job = fs.get_historical_features(feature_refs=[\n",
    "            \"flights_stats:avg_departure_delay\",\n",
    "            \"flights_stats:avg_arrival_delay\"\n",
    "        ],                         \n",
    "        entity_df=flight_records)\n",
    "\n",
    "print(\"big query job {} started, please hold\".format(type(job)))\n",
    "train_data = job.to_df()\n",
    "print(\"big query job completed\")\n"
   ]
  },
  {
   "cell_type": "code",
   "execution_count": 15,
   "id": "15240584",
   "metadata": {},
   "outputs": [
    {
     "name": "stdout",
     "output_type": "stream",
     "text": [
      "rows: 10\n"
     ]
    },
    {
     "data": {
      "text/html": [
       "<div>\n",
       "<style scoped>\n",
       "    .dataframe tbody tr th:only-of-type {\n",
       "        vertical-align: middle;\n",
       "    }\n",
       "\n",
       "    .dataframe tbody tr th {\n",
       "        vertical-align: top;\n",
       "    }\n",
       "\n",
       "    .dataframe thead th {\n",
       "        text-align: right;\n",
       "    }\n",
       "</style>\n",
       "<table border=\"1\" class=\"dataframe\">\n",
       "  <thead>\n",
       "    <tr style=\"text-align: right;\">\n",
       "      <th></th>\n",
       "      <th>airline</th>\n",
       "      <th>departure_airport</th>\n",
       "      <th>arrival_airport</th>\n",
       "      <th>departure_delay</th>\n",
       "      <th>event_timestamp</th>\n",
       "      <th>flights_stats__avg_departure_delay</th>\n",
       "      <th>flights_stats__avg_arrival_delay</th>\n",
       "    </tr>\n",
       "  </thead>\n",
       "  <tbody>\n",
       "    <tr>\n",
       "      <th>0</th>\n",
       "      <td>OH</td>\n",
       "      <td>CVG</td>\n",
       "      <td>LGA</td>\n",
       "      <td>0.0</td>\n",
       "      <td>2011-10-18 22:01:22+00:00</td>\n",
       "      <td>NaN</td>\n",
       "      <td>NaN</td>\n",
       "    </tr>\n",
       "    <tr>\n",
       "      <th>1</th>\n",
       "      <td>OO</td>\n",
       "      <td>BOI</td>\n",
       "      <td>SLC</td>\n",
       "      <td>0.0</td>\n",
       "      <td>2011-10-19 20:48:47+00:00</td>\n",
       "      <td>1.24</td>\n",
       "      <td>-1.96</td>\n",
       "    </tr>\n",
       "    <tr>\n",
       "      <th>2</th>\n",
       "      <td>WN</td>\n",
       "      <td>IND</td>\n",
       "      <td>MSY</td>\n",
       "      <td>0.0</td>\n",
       "      <td>2011-10-19 08:11:32+00:00</td>\n",
       "      <td>NaN</td>\n",
       "      <td>NaN</td>\n",
       "    </tr>\n",
       "    <tr>\n",
       "      <th>3</th>\n",
       "      <td>FL</td>\n",
       "      <td>ATL</td>\n",
       "      <td>MSY</td>\n",
       "      <td>-4.0</td>\n",
       "      <td>2011-10-19 19:48:58+00:00</td>\n",
       "      <td>11.29</td>\n",
       "      <td>14.29</td>\n",
       "    </tr>\n",
       "    <tr>\n",
       "      <th>4</th>\n",
       "      <td>WN</td>\n",
       "      <td>LAS</td>\n",
       "      <td>SLC</td>\n",
       "      <td>5.0</td>\n",
       "      <td>2011-10-18 12:25:05+00:00</td>\n",
       "      <td>6.49</td>\n",
       "      <td>3.44</td>\n",
       "    </tr>\n",
       "  </tbody>\n",
       "</table>\n",
       "</div>"
      ],
      "text/plain": [
       "  airline departure_airport arrival_airport  departure_delay  \\\n",
       "0      OH               CVG             LGA              0.0   \n",
       "1      OO               BOI             SLC              0.0   \n",
       "2      WN               IND             MSY              0.0   \n",
       "3      FL               ATL             MSY             -4.0   \n",
       "4      WN               LAS             SLC              5.0   \n",
       "\n",
       "            event_timestamp  flights_stats__avg_departure_delay  \\\n",
       "0 2011-10-18 22:01:22+00:00                                 NaN   \n",
       "1 2011-10-19 20:48:47+00:00                                1.24   \n",
       "2 2011-10-19 08:11:32+00:00                                 NaN   \n",
       "3 2011-10-19 19:48:58+00:00                               11.29   \n",
       "4 2011-10-18 12:25:05+00:00                                6.49   \n",
       "\n",
       "   flights_stats__avg_arrival_delay  \n",
       "0                               NaN  \n",
       "1                             -1.96  \n",
       "2                               NaN  \n",
       "3                             14.29  \n",
       "4                              3.44  "
      ]
     },
     "execution_count": 15,
     "metadata": {},
     "output_type": "execute_result"
    }
   ],
   "source": [
    "num_of_rows = train_data.shape[0]\n",
    "print('rows:',num_of_rows)\n",
    "train_data.head()"
   ]
  },
  {
   "cell_type": "code",
   "execution_count": 16,
   "id": "739beb17",
   "metadata": {},
   "outputs": [
    {
     "name": "stderr",
     "output_type": "stream",
     "text": [
      "/opt/conda/lib/python3.7/site-packages/ipykernel/ipkernel.py:283: DeprecationWarning: `should_run_async` will not call `transform_cell` automatically in the future. Please pass the result to `transformed_cell` argument and any exception that happen during thetransform in `preprocessing_exc_tuple` in IPython 7.17 and above.\n",
      "  and should_run_async(code)\n"
     ]
    }
   ],
   "source": [
    "#store data as historical retrival from data warehouse\n",
    "def store_feature_data(dataset, table, data):\n",
    "    reference = bq_client.dataset(dataset_id)\n",
    "    dataset = bq_client.get_dataset(reference)\n",
    "    print(dataset)\n",
    "\n",
    "    job_config = bigquery.job.LoadJobConfig()\n",
    "    job_config.write_disposition = bigquery.WriteDisposition.WRITE_TRUNCATE\n",
    "\n",
    "    job = bq_client.load_table_from_dataframe(data, table, job_config=job_config)\n",
    "\n",
    "    print(\"BigQuery job started, please hold for result\")\n",
    "    job.result()\n",
    "\n",
    "\n",
    "    #if not dataset.exists():\n",
    "    #dataset.create()\n",
    "    print('Loaded {} rows into Big Query{}:{}.'.format(\n",
    "            job.output_rows, dataset_id, table))"
   ]
  },
  {
   "cell_type": "code",
   "execution_count": 18,
   "id": "8acd213d",
   "metadata": {},
   "outputs": [
    {
     "name": "stdout",
     "output_type": "stream",
     "text": [
      "BigQuery jobs started, please hold...\n",
      "Dataset(DatasetReference('red-beryl-labs', 'redbq'))\n",
      "BigQuery job started, please hold for result\n",
      "Loaded 10 rows into Big Queryredbq:redbq.ml_flight_train.\n",
      "BigQuery jobs completed.\n"
     ]
    }
   ],
   "source": [
    "dataset_id=\"redbq\"\n",
    "print(\"BigQuery jobs started, please hold...\")\n",
    "#store flights retrieved\n",
    "store_feature_data(dataset_id,\"redbq.ml_flight_train\", train_data)\n",
    "print(\"BigQuery jobs completed.\")"
   ]
  },
  {
   "cell_type": "code",
   "execution_count": null,
   "id": "de3d6c6c",
   "metadata": {},
   "outputs": [],
   "source": []
  }
 ],
 "metadata": {
  "environment": {
   "name": "common-cpu.m73",
   "type": "gcloud",
   "uri": "gcr.io/deeplearning-platform-release/base-cpu:m73"
  },
  "kernelspec": {
   "display_name": "Python 3",
   "language": "python",
   "name": "python3"
  },
  "language_info": {
   "codemirror_mode": {
    "name": "ipython",
    "version": 3
   },
   "file_extension": ".py",
   "mimetype": "text/x-python",
   "name": "python",
   "nbconvert_exporter": "python",
   "pygments_lexer": "ipython3",
   "version": "3.7.10"
  }
 },
 "nbformat": 4,
 "nbformat_minor": 5
}
