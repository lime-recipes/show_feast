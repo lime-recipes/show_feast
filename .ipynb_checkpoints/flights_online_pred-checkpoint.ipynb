{
 "cells": [
  {
   "cell_type": "code",
   "execution_count": 11,
   "id": "e80e7fc7",
   "metadata": {},
   "outputs": [],
   "source": [
    "import numpy as np\n",
    "import google.auth\n",
    "from google.cloud import bigquery\n",
    "\n",
    "\n",
    "credentials, project_id = google.auth.default(\n",
    "    scopes=[\"https://www.googleapis.com/auth/cloud-platform\"]\n",
    ")\n",
    "\n",
    "bq_client = bigquery.Client(credentials=credentials, project=project_id,)\n",
    "\n",
    "\n"
   ]
  },
  {
   "cell_type": "code",
   "execution_count": 13,
   "id": "a665f009",
   "metadata": {},
   "outputs": [
    {
     "name": "stdout",
     "output_type": "stream",
     "text": [
      "Dataset model_space already exists\n"
     ]
    }
   ],
   "source": [
    "dataset_id=\"model_space\"\n",
    "model_space\n",
    "try:\n",
    "    model_space = bq_client.get_dataset(dataset_id)  \n",
    "    print(\"Dataset {} already exists\".format(dataset_id))\n",
    "except NotFound:\n",
    "    print(\"Dataset {} is not found\".format(dataset_id))\n",
    "    model_space = bq_client.create_dataset(dataset_id) "
   ]
  },
  {
   "cell_type": "code",
   "execution_count": 14,
   "id": "334ae62a",
   "metadata": {},
   "outputs": [
    {
     "name": "stderr",
     "output_type": "stream",
     "text": [
      "Query complete after 0.00s: 100%|██████████| 3/3 [00:00<00:00, 1077.30query/s]                        \n"
     ]
    },
    {
     "data": {
      "text/html": [
       "<div>\n",
       "<style scoped>\n",
       "    .dataframe tbody tr th:only-of-type {\n",
       "        vertical-align: middle;\n",
       "    }\n",
       "\n",
       "    .dataframe tbody tr th {\n",
       "        vertical-align: top;\n",
       "    }\n",
       "\n",
       "    .dataframe thead th {\n",
       "        text-align: right;\n",
       "    }\n",
       "</style>\n",
       "<table border=\"1\" class=\"dataframe\">\n",
       "  <thead>\n",
       "    <tr style=\"text-align: right;\">\n",
       "      <th></th>\n",
       "    </tr>\n",
       "  </thead>\n",
       "  <tbody>\n",
       "  </tbody>\n",
       "</table>\n",
       "</div>"
      ],
      "text/plain": [
       "Empty DataFrame\n",
       "Columns: []\n",
       "Index: []"
      ]
     },
     "execution_count": 14,
     "metadata": {},
     "output_type": "execute_result"
    }
   ],
   "source": [
    "%%bigquery\n",
    "CREATE OR REPLACE MODEL model_space.arrdelay\n",
    "OPTIONS\n",
    "  (model_type='linear_reg', input_label_cols=['avg_delay_dur']) AS\n",
    "SELECT\n",
    "  avg_delay_dur,\n",
    "  airline,\n",
    "  departure_airport,\n",
    "  arrival_airport,\n",
    "  departure_schedule,\n",
    "FROM\n",
    "  `red-beryl-labs.redbq.flight_records`\n",
    "WHERE\n",
    "  avg_delay_dur IS NOT NULL\n"
   ]
  },
  {
   "cell_type": "code",
   "execution_count": null,
   "id": "b4fe80bc",
   "metadata": {},
   "outputs": [],
   "source": [
    "%%bigquery\n",
    "SELECT * FROM ml.PREDICT(MODEL model_space.arrdelay, (\n",
    "SELECT \n",
    "  'AA' as airline,\n",
    "  'DFW' as departure_airport,\n",
    "  'LAX' as arrival_airport,\n",
    "  dep_delay,\n",
    "  18 as taxi_out,\n",
    "  1235 as distance\n",
    "FROM\n",
    "  UNNEST(GENERATE_ARRAY(-3, 10)) as dep_delay\n",
    "))"
   ]
  }
 ],
 "metadata": {
  "environment": {
   "name": "common-cpu.m73",
   "type": "gcloud",
   "uri": "gcr.io/deeplearning-platform-release/base-cpu:m73"
  },
  "kernelspec": {
   "display_name": "Python 3",
   "language": "python",
   "name": "python3"
  },
  "language_info": {
   "codemirror_mode": {
    "name": "ipython",
    "version": 3
   },
   "file_extension": ".py",
   "mimetype": "text/x-python",
   "name": "python",
   "nbconvert_exporter": "python",
   "pygments_lexer": "ipython3",
   "version": "3.7.10"
  }
 },
 "nbformat": 4,
 "nbformat_minor": 5
}
